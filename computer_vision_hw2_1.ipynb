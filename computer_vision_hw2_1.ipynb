{
 "cells": [
  {
   "cell_type": "code",
   "execution_count": 32,
   "metadata": {},
   "outputs": [
    {
     "data": {
      "image/png": "[encoded data removed]",
      "text/plain": [
       "<Figure size 576x288 with 1 Axes>"
      ]
     },
     "metadata": {},
     "output_type": "display_data"
    }
   ],
   "source": [
    "###homework 2\n",
    "#import套件\n",
    "from PIL import Image\n",
    "import numpy as np\n",
    "import matplotlib.pyplot as plt\n",
    "\n",
    "\n",
    "#讀原圖檔案\n",
    "image=Image.open(\"lena.bmp\")\n",
    "\n",
    "origin=np.zeros([512,512],np.int)\n",
    "count= np.zeros(256,np.int)\n",
    "for i in range(512):\n",
    "    for j in range(512):\n",
    "        origin[i, j] = image.getpixel((i,j))\n",
    "        count[origin[i,j]]+=1\n",
    "        \n",
    "# generate a binary image (threshold at 128, (0-127,128-255))\n",
    "image_binary=Image.new(\"L\",(512,512))\n",
    "\n",
    "for i in range(512):\n",
    "    for j in range(512):\n",
    "        if origin[i,j]>127:\n",
    "            image_binary.putpixel((i,j),255)            \n",
    "        else:\n",
    "            image_binary.putpixel((i,j),0)\n",
    "\n",
    "#image_binary.show(title=\"binary picture\")\n",
    "#image_binary.save(\"image_binary.bmp\",'bmp')\n",
    "\n",
    "# generate a histogram\n",
    "x= np.linspace(0,255,256,dtype=np.int)\n",
    "y= count[x]\n",
    "#plt.hist(data) 製作簡單的直方圖\n",
    "#https://kknews.cc/zh-tw/code/3ngaz5a.html\n",
    "#https://www.happycoder.org/2017/10/13/python-data-science-and-machine-learning-matplotlib-tutorial/\n",
    "ax = plt.figure(figsize=(8,4)) #固定大小\n",
    "ax.set_facecolor('lightcyan') #固定外框顏色(填滿顏色)\n",
    "plt.axes(facecolor='k') #內部為黑色背景\n",
    "#https://matplotlib.org/devdocs/gallery/color/named_colors.html\n",
    "plt.hist(origin.flatten(), bins = x, density=False, color='w')\n",
    "#函式.flatten()將array、matrix轉乘 1D-array\n",
    "#hist中的data必須為一維資料\n",
    "#bins:直方圖的柱數，可選項\n",
    "#density:是否將得到的直方圖向量歸一化。默認為0(false)\n",
    "#color：顏色序列\n",
    "\n",
    "plt.title('histogram')\n",
    "plt.xlabel(\"gray level value\")\n",
    "plt.ylabel(\"count\")\n",
    "plt.xlim(0, 255)\n",
    "plt.ylim(0, max(count))\n",
    "plt.savefig(\"image_histogram.png\")\n",
    "\n"
   ]
  },
  {
   "cell_type": "code",
   "execution_count": 34,
   "metadata": {},
   "outputs": [],
   "source": [
    "\n"
   ]
  }
 ],
 "metadata": {
  "kernelspec": {
   "display_name": "Python 3",
   "language": "python",
   "name": "python3"
  },
  "language_info": {
   "codemirror_mode": {
    "name": "ipython",
    "version": 3
   },
   "file_extension": ".py",
   "mimetype": "text/x-python",
   "name": "python",
   "nbconvert_exporter": "python",
   "pygments_lexer": "ipython3",
   "version": "3.8.5"
  }
 },
 "nbformat": 4,
 "nbformat_minor": 4
}
