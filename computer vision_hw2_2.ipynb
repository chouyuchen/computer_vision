{
 "cells": [
  {
   "cell_type": "code",
   "execution_count": 2,
   "metadata": {},
   "outputs": [
    {
     "data": {
      "image/png": "[encoded data removed]",
      "text/plain": [
       "<Figure size 576x288 with 1 Axes>"
      ]
     },
     "metadata": {},
     "output_type": "display_data"
    }
   ],
   "source": [
    "###homework2\n",
    "#histogram equalization\n",
    "from PIL import Image\n",
    "import numpy as np\n",
    "import matplotlib.pyplot as plt\n",
    "import cv2\n",
    "\n",
    "im=cv2.imread(\"lena.bmp\",0)#將檔案讀成灰階檔\n",
    "## print(type(im))  <class 'numpy.ndarray'>\n",
    "## image=Image.open(\"lena.bmp\") \n",
    "## print(type(image)) <class 'PIL.BmpImagePlugin.BmpImageFile'>\n",
    "\n",
    "#read data（利用count存取各個灰階直出現的次數）\n",
    "count = np.zeros(256, np.int)\n",
    "for i in range(512):\n",
    "    for j in range(512):\n",
    "        count[im[i, j]]+=1\n",
    "\n",
    "#histogram equalization\n",
    "#先new一個空numpy array來接收equalization後的圖，cv2的image可以直接接收numpy array\n",
    "#算一下equlized後的s陣列，還有總pixels數numberofpixels\n",
    "\n",
    "#計算value用相關參數\n",
    "equalization=np.zeros((512,512),int)\n",
    "rows, columns= im.shape        \n",
    "sumPixel = rows* columns\n",
    "value= np.zeros(256,int)\n",
    "totalfreq= 0\n",
    "\n",
    "#計算value(累積的灰階)\n",
    "for i in range(256):\n",
    "    totalfreq+=count[i]\n",
    "    value[i]=totalfreq*255/float(sumPixel) #換算成頻率（分數）\n",
    "\n",
    "#把處理過後的值換回2維矩陣\n",
    "for i in range(512):\n",
    "    for j in range(512):\n",
    "        equalization[i,j]=int(round(value[im[i,j]])) #round為取四捨五入的感覺\n",
    "        #value的用法跟count相同，差別只是有沒有處理過\n",
    "\n",
    "#若要將 NumPy 陣列中儲存的圖片寫入檔案,使用imwrite\n",
    "cv2.imwrite('equalization_pic.jpg',equalization)\n",
    "\n",
    "# generate a equiliztion histogram\n",
    "x= np.linspace(0,255,256,dtype=np.int)\n",
    "y= count[x]\n",
    "ax = plt.figure(figsize=(8,4)) #固定大小\n",
    "ax.set_facecolor('lightcyan') #固定外框顏色(填滿顏色)\n",
    "plt.axes(facecolor='orange') #內部為黑色背景\n",
    "plt.hist(equalization.flatten(), bins = x, density=False, color='w')\n",
    "plt.title('equilization histogram')\n",
    "plt.xlabel(\"gray level value\")\n",
    "plt.ylabel(\"count\")\n",
    "plt.xlim(0, 255)\n",
    "plt.ylim(0, max(count))\n",
    "plt.savefig(\"image_equalization histogram.png\")\n"
   ]
  },
  {
   "cell_type": "code",
   "execution_count": null,
   "metadata": {},
   "outputs": [],
   "source": []
  }
 ],
 "metadata": {
  "kernelspec": {
   "display_name": "Python 3",
   "language": "python",
   "name": "python3"
  },
  "language_info": {
   "codemirror_mode": {
    "name": "ipython",
    "version": 3
   },
   "file_extension": ".py",
   "mimetype": "text/x-python",
   "name": "python",
   "nbconvert_exporter": "python",
   "pygments_lexer": "ipython3",
   "version": "3.8.5"
  }
 },
 "nbformat": 4,
 "nbformat_minor": 4
}
