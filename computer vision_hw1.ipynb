{
 "cells": [
  {
   "cell_type": "code",
   "execution_count": 5,
   "metadata": {},
   "outputs": [
    {
     "name": "stdout",
     "output_type": "stream",
     "text": [
      "BMP (512, 512) L\n"
     ]
    }
   ],
   "source": [
    "#import套件\n",
    "from PIL import Image\n",
    "import numpy as np\n",
    "\n",
    "#讀原圖檔案\n",
    "image1=Image.open(\"lena.bmp\")\n",
    "#image1=Image.open(\"test.bmp\")\n",
    "#查看image2的相關資訊\n",
    "#print(image1.format,image1.size,image1.mode) \n",
    "\n",
    "\n",
    "#建立上下顛倒圖片(利用PIL製作新圖片的概念)\n",
    "#PIL.Image.new(mode, size)\n",
    "#mode L 代表只存亮度 （灰階）\n",
    "image_upsidedown=Image.new(\"L\",(512,512))\n",
    "#建立左右顛倒圖片\n",
    "image_rightsideleft=Image.new(\"L\",(512,512))\n",
    "#建立鏡射圖片\n",
    "image_diagonal=Image.new(\"L\",(512,512))\n",
    "\n",
    "\n",
    "#先將原始圖片轉成pixel存取\n",
    "origin=np.zeros([512,512])\n",
    "for i in range(512):\n",
    "    for j in range(512):\n",
    "        origin[i, j] = image1.getpixel((i,j))   #getpixel(self, xy)\n",
    "        #print(image1.getpixel((i,j)))\n",
    "        #所得為一個數值\n",
    "#依pixel存入三張更動的圖片\n",
    "for i in range(512):\n",
    "    for j in range(512):\n",
    "        image_upsidedown.putpixel((i,j), int(origin[i, 511-j])) #putpixel(self, xy, color)\n",
    "        image_rightsideleft.putpixel((i,j), int(origin[511-i, j]))\n",
    "        image_diagonal.putpixel((i,j), int(origin[j, i]))\n",
    "\n",
    "\n",
    "#印出照片\n",
    "#image1.show()\n",
    "\"\"\"\n",
    "image1.show()\n",
    "image_upsidedown.show()\n",
    "image_rightsideleft.show()\n",
    "image_diagonal.show()\n",
    "\"\"\"\n",
    "\n",
    "#存照片\n",
    "\"\"\"\n",
    "image_upsidedown.save(\"im_upsidedown.bmp\", \"bmp\")\n",
    "image_rightsideleft.save(\"im_rightsideleft.bmp\", \"bmp\")\n",
    "image_diagonal.save(\"im_diagonal.bmp\", \"bmp\")\n",
    "\"\"\"\n",
    "\n",
    "\n",
    "\n",
    "\n",
    "image2=Image.open(\"test.jpg\")\n",
    "im_upsidedown=Image.new(\"RGB\",(3781,4726))\n",
    "#建立左右顛倒圖片\n",
    "im_rightsideleft=Image.new(\"RGB\",(3781,4726))\n",
    "\n",
    "\"\"\"\n",
    "original=np.zeros([3781,4726])\n",
    "for i in range(3781):\n",
    "    for j in range(4726):\n",
    "        #print(image2.getpixel((i,j)))    #getpixel(self, xy)\n",
    "        #所得為一個tuple\n",
    "\"\"\"\n",
    "im_upsidedown=image2.transpose(Image.ROTATE_90)\n",
    "im_rightsideleft=image2.transpose(Image.ROTATE_180)\n",
    "\n",
    "image2.show()\n",
    "im_upsidedown.show()\n",
    "im_rightsideleft.show()\n"
   ]
  },
  {
   "cell_type": "code",
   "execution_count": null,
   "metadata": {},
   "outputs": [],
   "source": []
  }
 ],
 "metadata": {
  "kernelspec": {
   "display_name": "Python 3",
   "language": "python",
   "name": "python3"
  },
  "language_info": {
   "codemirror_mode": {
    "name": "ipython",
    "version": 3
   },
   "file_extension": ".py",
   "mimetype": "text/x-python",
   "name": "python",
   "nbconvert_exporter": "python",
   "pygments_lexer": "ipython3",
   "version": "3.8.5"
  }
 },
 "nbformat": 4,
 "nbformat_minor": 4
}
